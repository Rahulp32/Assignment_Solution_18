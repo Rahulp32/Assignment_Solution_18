{
 "cells": [
  {
   "cell_type": "markdown",
   "id": "052e2c32-29f4-49cd-a5da-15aca5c6c25f",
   "metadata": {},
   "source": [
    "# 19_February_18th_Assignment"
   ]
  },
  {
   "cell_type": "markdown",
   "id": "924f8e8f-84a7-491d-ab2d-5bc6a179279f",
   "metadata": {},
   "source": [
    "# NOTE - In this Assignment Program not running in Jupyter But Properly running in VS Code"
   ]
  },
  {
   "cell_type": "markdown",
   "id": "3f565f73-6faf-401a-b811-ed0b2285cc3d",
   "metadata": {},
   "source": [
    "### **Q1. What is Flask Framework? What Are the Advantages of Flask Framework?**\n",
    "\n",
    "#### **Flask Framework:**\n",
    "Flask is a lightweight and flexible **web framework** for Python. It is classified as a **micro-framework** because it does not require particular tools or libraries. Flask is used to build web applications and APIs.\n",
    "\n",
    "#### **Advantages of Flask Framework:**\n",
    "1. **Lightweight and Simple**:\n",
    "   - Flask is easy to learn and has minimal setup requirements.\n",
    "2. **Flexibility**:\n",
    "   - Developers have full control over application structure and components.\n",
    "3. **Extensibility**:\n",
    "   - Flask supports extensions for advanced functionalities (e.g., Flask-SQLAlchemy for databases).\n",
    "4. **Built-in Development Server**:\n",
    "   - Comes with a built-in server for testing applications locally.\n",
    "5. **RESTful Request Handling**:\n",
    "   - Flask is ideal for building RESTful APIs.\n",
    "6. **Large Community Support**:\n",
    "   - Flask has extensive documentation and community support.\n",
    "7. **Integration**:\n",
    "   - Easily integrates with front-end technologies and third-party libraries.\n",
    "\n",
    "---\n",
    "\n",
    "### **Q2. Create a Simple Flask Application to Display ‘Hello World!!’**"
   ]
  },
  {
   "cell_type": "code",
   "execution_count": null,
   "id": "e47b1f3c-fddb-484a-8991-20b574f04988",
   "metadata": {},
   "outputs": [],
   "source": [
    "from flask import Flask\n",
    "\n",
    "app = Flask(__name__)\n",
    "\n",
    "@app.route(\"/\")\n",
    "def hello_world():\n",
    "    return \"Hello World!!\"\n",
    "\n",
    "if __name__ == \"__main__\":\n",
    "    app.run(debug=True)"
   ]
  },
  {
   "cell_type": "code",
   "execution_count": null,
   "id": "ce698017-605a-436b-8f6f-f2da53126513",
   "metadata": {},
   "outputs": [],
   "source": []
  },
  {
   "cell_type": "markdown",
   "id": "eef083ea-903b-46bd-9813-7d6f6f164994",
   "metadata": {},
   "source": [
    "## **Q3. What is App Routing in Flask? Why Do We Use App Routes?**\n",
    "\n",
    "#### **App Routing in Flask:**\n",
    "- **App routing** refers to the mapping of URLs to specific functions in a Flask application. Each route is associated with a URL endpoint.\n",
    "\n",
    "#### **Why Use App Routes?**\n",
    "1. **Define URL Paths**:\n",
    "   - Routes allow developers to define how URLs correspond to specific functions.\n",
    "2. **Dynamic Content**:\n",
    "   - Routes enable dynamic content rendering based on URL parameters.\n",
    "3. **Organized Structure**:\n",
    "   - Routes help in organizing application logic by associating URLs with views.\n",
    "\n",
    "**Example:**"
   ]
  },
  {
   "cell_type": "code",
   "execution_count": 12,
   "id": "6d1507e8-0823-4d11-9bf0-d259a15c18a2",
   "metadata": {},
   "outputs": [],
   "source": [
    "@app.route(\"/home\")\n",
    "def home():\n",
    "    return \"Welcome to the Home Page\""
   ]
  },
  {
   "cell_type": "code",
   "execution_count": null,
   "id": "a6fe9d7e-769c-40a3-bbf5-5d5a7d12ff47",
   "metadata": {},
   "outputs": [],
   "source": []
  },
  {
   "cell_type": "markdown",
   "id": "82a9a184-b0b4-4cc1-b6fb-c227735e6e6b",
   "metadata": {},
   "source": [
    "## **Q4. Create Routes to Display Information**"
   ]
  },
  {
   "cell_type": "code",
   "execution_count": null,
   "id": "373109b3-69c8-4d12-8c51-eac6cb8b4410",
   "metadata": {},
   "outputs": [],
   "source": [
    "from flask import Flask\n",
    "\n",
    "app = Flask(__name__)\n",
    "\n",
    "@app.route(\"/\")\n",
    "def company_info():\n",
    "    return \"\"\"\n",
    "    <h1>Company Name: ABC Corporation</h1>\n",
    "    <p>Location: India</p>\n",
    "    <p>Contact Detail: 999-999-9999</p>\n",
    "    \"\"\"\n",
    "\n",
    "@app.route(\"/welcome\")\n",
    "def welcome():\n",
    "    return \"Welcome to ABC Corporation\"\n",
    "\n",
    "if __name__ == \"__main__\":\n",
    "    app.run(debug=True)"
   ]
  },
  {
   "cell_type": "code",
   "execution_count": null,
   "id": "b276c2bf-be3b-4374-bf7b-763eb3cfb175",
   "metadata": {},
   "outputs": [],
   "source": []
  },
  {
   "cell_type": "markdown",
   "id": "c7ceda93-458b-4541-b08f-fd6607342422",
   "metadata": {},
   "source": [
    "## **Q5. What Function is Used in Flask for URL Building?**"
   ]
  },
  {
   "cell_type": "markdown",
   "id": "b1d0e258-caf8-4280-ae47-fc69601b5cbd",
   "metadata": {},
   "source": [
    "#### **Function Used:**\n",
    "The `url_for()` function is used in Flask for URL building. It generates a URL for a specific function based on its name and allows dynamic URL generation.\n"
   ]
  },
  {
   "cell_type": "markdown",
   "id": "497e456a-5990-4c38-a9d2-32a18747cae1",
   "metadata": {},
   "source": [
    "### Example: "
   ]
  },
  {
   "cell_type": "code",
   "execution_count": null,
   "id": "5c94461c-a78b-432b-8959-10b9c31e3dcd",
   "metadata": {},
   "outputs": [],
   "source": [
    "from flask import Flask, url_for\n",
    "\n",
    "app = Flask(__name__)\n",
    "\n",
    "@app.route(\"/\")\n",
    "def home():\n",
    "    return \"This is the Home Page\"\n",
    "\n",
    "@app.route(\"/about\")\n",
    "def about():\n",
    "    return \"This is the About Page\"\n",
    "\n",
    "@app.route(\"/links\")\n",
    "def links():\n",
    "    home_url = url_for(\"home\")\n",
    "    about_url = url_for(\"about\")\n",
    "    return f\"\"\"\n",
    "    <p>Home URL: <a href=\"{home_url}\">{home_url}</a></p>\n",
    "    <p>About URL: <a href=\"{about_url}\">{about_url}</a></p>\n",
    "    \"\"\"\n",
    "\n",
    "if __name__ == \"__main__\":\n",
    "    app.run(debug=True)\n"
   ]
  },
  {
   "cell_type": "code",
   "execution_count": null,
   "id": "68814bbe-8bdf-4161-bd49-1f7c49c736bc",
   "metadata": {},
   "outputs": [],
   "source": []
  }
 ],
 "metadata": {
  "kernelspec": {
   "display_name": "Python 3 (ipykernel)",
   "language": "python",
   "name": "python3"
  },
  "language_info": {
   "codemirror_mode": {
    "name": "ipython",
    "version": 3
   },
   "file_extension": ".py",
   "mimetype": "text/x-python",
   "name": "python",
   "nbconvert_exporter": "python",
   "pygments_lexer": "ipython3",
   "version": "3.11.7"
  }
 },
 "nbformat": 4,
 "nbformat_minor": 5
}
